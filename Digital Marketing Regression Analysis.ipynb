{
 "cells": [
  {
   "cell_type": "markdown",
   "id": "18e49d07",
   "metadata": {},
   "source": [
    "# Regression Analysis\n",
    "\n",
    "- **When proceeding with a Facebook ad campaign, what can be expected in terms of conversions?**\n",
    "- **Specifically, based on regression analysis, how many conversions can be anticipated given a certain number of clicks on the Facebook ads?**"
   ]
  },
  {
   "cell_type": "code",
   "execution_count": 1,
   "id": "1906016e",
   "metadata": {},
   "outputs": [],
   "source": [
    "# Importing Libraries\n",
    "import pandas as pd\n",
    "import matplotlib.pyplot as plt\n",
    "import seaborn as sns\n",
    "import numpy as np\n",
    "import scipy.stats as st\n",
    "\n",
    "from sklearn import linear_model\n",
    "\n",
    "# model evaluation\n",
    "from sklearn.metrics import r2_score, mean_squared_error\n",
    "\n",
    "import warnings\n",
    "warnings.filterwarnings('ignore')"
   ]
  },
  {
   "cell_type": "code",
   "execution_count": 2,
   "id": "b3abfbca",
   "metadata": {
    "scrolled": true
   },
   "outputs": [
    {
     "data": {
      "text/html": [
       "<div>\n",
       "<style scoped>\n",
       "    .dataframe tbody tr th:only-of-type {\n",
       "        vertical-align: middle;\n",
       "    }\n",
       "\n",
       "    .dataframe tbody tr th {\n",
       "        vertical-align: top;\n",
       "    }\n",
       "\n",
       "    .dataframe thead th {\n",
       "        text-align: right;\n",
       "    }\n",
       "</style>\n",
       "<table border=\"1\" class=\"dataframe\">\n",
       "  <thead>\n",
       "    <tr style=\"text-align: right;\">\n",
       "      <th></th>\n",
       "      <th>Date</th>\n",
       "      <th>fb_ad_campaign</th>\n",
       "      <th>fb_impression</th>\n",
       "      <th>fb_clicks</th>\n",
       "      <th>fb_cost</th>\n",
       "      <th>fb_conversion</th>\n",
       "      <th>fb_CTR</th>\n",
       "      <th>fb_CR</th>\n",
       "      <th>fb_CPC</th>\n",
       "      <th>adwords_ad_campaign</th>\n",
       "      <th>adwords_Impressions</th>\n",
       "      <th>adwords_clicks</th>\n",
       "      <th>adwords_cost</th>\n",
       "      <th>adwords_conversion</th>\n",
       "      <th>adwords_CTR</th>\n",
       "      <th>adwords_CR</th>\n",
       "      <th>adwords_CPC</th>\n",
       "    </tr>\n",
       "  </thead>\n",
       "  <tbody>\n",
       "    <tr>\n",
       "      <th>0</th>\n",
       "      <td>01-01-2023</td>\n",
       "      <td>fb_jan23</td>\n",
       "      <td>1194718</td>\n",
       "      <td>141</td>\n",
       "      <td>$254.05</td>\n",
       "      <td>28</td>\n",
       "      <td>0.01%</td>\n",
       "      <td>19.86%</td>\n",
       "      <td>$1.80</td>\n",
       "      <td>adwords_jan23</td>\n",
       "      <td>1772</td>\n",
       "      <td>15</td>\n",
       "      <td>$0.00</td>\n",
       "      <td>1</td>\n",
       "      <td>0.85%</td>\n",
       "      <td>6.67%</td>\n",
       "      <td>$0.00</td>\n",
       "    </tr>\n",
       "    <tr>\n",
       "      <th>1</th>\n",
       "      <td>02-01-2023</td>\n",
       "      <td>fb_jan23</td>\n",
       "      <td>637648</td>\n",
       "      <td>67</td>\n",
       "      <td>$122.40</td>\n",
       "      <td>13</td>\n",
       "      <td>0.01%</td>\n",
       "      <td>19.40%</td>\n",
       "      <td>$1.83</td>\n",
       "      <td>adwords_jan23</td>\n",
       "      <td>13329</td>\n",
       "      <td>4</td>\n",
       "      <td>$5.63</td>\n",
       "      <td>1</td>\n",
       "      <td>0.03%</td>\n",
       "      <td>25.00%</td>\n",
       "      <td>$1.41</td>\n",
       "    </tr>\n",
       "    <tr>\n",
       "      <th>2</th>\n",
       "      <td>03-01-2023</td>\n",
       "      <td>fb_jan23</td>\n",
       "      <td>24362</td>\n",
       "      <td>55</td>\n",
       "      <td>$0.00</td>\n",
       "      <td>1</td>\n",
       "      <td>0.23%</td>\n",
       "      <td>1.82%</td>\n",
       "      <td>$0.00</td>\n",
       "      <td>adwords_jan23</td>\n",
       "      <td>13659</td>\n",
       "      <td>3</td>\n",
       "      <td>$3.84</td>\n",
       "      <td>1</td>\n",
       "      <td>0.02%</td>\n",
       "      <td>33.33%</td>\n",
       "      <td>$1.28</td>\n",
       "    </tr>\n",
       "    <tr>\n",
       "      <th>3</th>\n",
       "      <td>04-01-2023</td>\n",
       "      <td>fb_jan23</td>\n",
       "      <td>459690</td>\n",
       "      <td>50</td>\n",
       "      <td>$86.33</td>\n",
       "      <td>5</td>\n",
       "      <td>0.01%</td>\n",
       "      <td>10.00%</td>\n",
       "      <td>$1.73</td>\n",
       "      <td>adwords_jan23</td>\n",
       "      <td>739</td>\n",
       "      <td>5</td>\n",
       "      <td>$0.00</td>\n",
       "      <td>1</td>\n",
       "      <td>0.68%</td>\n",
       "      <td>20.00%</td>\n",
       "      <td>$0.00</td>\n",
       "    </tr>\n",
       "    <tr>\n",
       "      <th>4</th>\n",
       "      <td>05-01-2023</td>\n",
       "      <td>fb_jan23</td>\n",
       "      <td>750060</td>\n",
       "      <td>86</td>\n",
       "      <td>$161.91</td>\n",
       "      <td>11</td>\n",
       "      <td>0.01%</td>\n",
       "      <td>12.79%</td>\n",
       "      <td>$1.88</td>\n",
       "      <td>adwords_jan23</td>\n",
       "      <td>605</td>\n",
       "      <td>5</td>\n",
       "      <td>$0.00</td>\n",
       "      <td>1</td>\n",
       "      <td>0.83%</td>\n",
       "      <td>20.00%</td>\n",
       "      <td>$0.00</td>\n",
       "    </tr>\n",
       "  </tbody>\n",
       "</table>\n",
       "</div>"
      ],
      "text/plain": [
       "         Date fb_ad_campaign  fb_impression  fb_clicks  fb_cost  \\\n",
       "0  01-01-2023       fb_jan23        1194718        141  $254.05   \n",
       "1  02-01-2023       fb_jan23         637648         67  $122.40   \n",
       "2  03-01-2023       fb_jan23          24362         55    $0.00   \n",
       "3  04-01-2023       fb_jan23         459690         50   $86.33   \n",
       "4  05-01-2023       fb_jan23         750060         86  $161.91   \n",
       "\n",
       "   fb_conversion fb_CTR   fb_CR fb_CPC adwords_ad_campaign  \\\n",
       "0             28  0.01%  19.86%  $1.80       adwords_jan23   \n",
       "1             13  0.01%  19.40%  $1.83       adwords_jan23   \n",
       "2              1  0.23%   1.82%  $0.00       adwords_jan23   \n",
       "3              5  0.01%  10.00%  $1.73       adwords_jan23   \n",
       "4             11  0.01%  12.79%  $1.88       adwords_jan23   \n",
       "\n",
       "   adwords_Impressions  adwords_clicks adwords_cost  adwords_conversion  \\\n",
       "0                 1772              15        $0.00                   1   \n",
       "1                13329               4        $5.63                   1   \n",
       "2                13659               3        $3.84                   1   \n",
       "3                  739               5        $0.00                   1   \n",
       "4                  605               5        $0.00                   1   \n",
       "\n",
       "  adwords_CTR adwords_CR adwords_CPC  \n",
       "0       0.85%      6.67%       $0.00  \n",
       "1       0.03%     25.00%       $1.41  \n",
       "2       0.02%     33.33%       $1.28  \n",
       "3       0.68%     20.00%       $0.00  \n",
       "4       0.83%     20.00%       $0.00  "
      ]
     },
     "execution_count": 2,
     "metadata": {},
     "output_type": "execute_result"
    }
   ],
   "source": [
    "# loading dataset\n",
    "df = pd.read_csv('marketing - Copy.csv')\n",
    "df.head()"
   ]
  },
  {
   "cell_type": "code",
   "execution_count": 28,
   "id": "57d6163b",
   "metadata": {},
   "outputs": [],
   "source": [
    "# independent variable\n",
    "X = df[['fb_clicks']]\n",
    "\n",
    "# dependent variable\n",
    "y = df[['fb_conversion']]"
   ]
  },
  {
   "cell_type": "code",
   "execution_count": 29,
   "id": "3ae62d9d",
   "metadata": {},
   "outputs": [],
   "source": [
    "# Split data in the train and test set\n",
    "from sklearn.model_selection import train_test_split\n",
    "\n",
    "x_train, x_test, y_train, y_test = train_test_split(X, y, test_size=0.3, random_state=2)"
   ]
  },
  {
   "cell_type": "code",
   "execution_count": 30,
   "id": "b58d005b",
   "metadata": {
    "scrolled": false
   },
   "outputs": [
    {
     "name": "stdout",
     "output_type": "stream",
     "text": [
      "Accuracy (R2 Score):  0.5130328459450508\n",
      "Mean Square Error (MSE):  25.42\n"
     ]
    }
   ],
   "source": [
    "# initializing and fitting linera regression model\n",
    "lr = linear_model.LinearRegression()\n",
    "lr.fit(x_train,y_train)\n",
    "y_pred = lr.predict(x_test)\n",
    "\n",
    "# model evaluation\n",
    "r2 = r2_score(y_test,y_pred)\n",
    "mse = mean_squared_error(y_test, y_pred)\n",
    "\n",
    "print('Accuracy (R2 Score): ',r2)\n",
    "print('Mean Square Error (MSE): ', round(mse,2))"
   ]
  },
  {
   "cell_type": "code",
   "execution_count": 31,
   "id": "6aae1462",
   "metadata": {},
   "outputs": [
    {
     "name": "stdout",
     "output_type": "stream",
     "text": [
      "Adjusted R2 Score:  0.5116913386336046\n"
     ]
    }
   ],
   "source": [
    "r2 = r2_score(y_test,y_pred)\n",
    "adj_r2 = 1 - (1 - r2) * (365 - 1) / (365-1-1)\n",
    "print('Adjusted R2 Score: ', adj_r2)"
   ]
  },
  {
   "cell_type": "code",
   "execution_count": 32,
   "id": "62c705ca",
   "metadata": {
    "scrolled": false
   },
   "outputs": [
    {
     "data": {
      "image/png": "[encoded data removed]",
      "text/plain": [
       "<Figure size 800x600 with 1 Axes>"
      ]
     },
     "metadata": {},
     "output_type": "display_data"
    }
   ],
   "source": [
    "plt.figure(figsize=(8,6))\n",
    "sns.scatterplot(x=df['fb_clicks'], y=df['fb_conversion'], color='#03989E', label='Actual data points')\n",
    "plt.plot(df['fb_clicks'], prediction, color='#A62372', label='Best Fit Line')\n",
    "plt.legend()\n",
    "plt.show()"
   ]
  },
  {
   "cell_type": "code",
   "execution_count": 16,
   "id": "468a4640",
   "metadata": {},
   "outputs": [],
   "source": [
    "from sklearn.preprocessing import PolynomialFeatures"
   ]
  },
  {
   "cell_type": "code",
   "execution_count": 33,
   "id": "408c3db6",
   "metadata": {},
   "outputs": [
    {
     "name": "stdout",
     "output_type": "stream",
     "text": [
      "0.513046527287123\n"
     ]
    }
   ],
   "source": [
    "#applying polynomial regression degree 2\n",
    "poly = PolynomialFeatures(degree=2, include_bias=True)\n",
    "x_train_trans = poly.fit_transform(x_train)\n",
    "x_test_trans = poly.transform(x_test)\n",
    "#include bias parameter\n",
    "lr = linear_model.LinearRegression()\n",
    "lr.fit(x_train_trans, y_train)\n",
    "y_pred = lr.predict(x_test_trans)\n",
    "print(r2_score(y_test, y_pred))"
   ]
  }
 ],
 "metadata": {
  "kernelspec": {
   "display_name": "Python 3 (ipykernel)",
   "language": "python",
   "name": "python3"
  },
  "language_info": {
   "codemirror_mode": {
    "name": "ipython",
    "version": 3
   },
   "file_extension": ".py",
   "mimetype": "text/x-python",
   "name": "python",
   "nbconvert_exporter": "python",
   "pygments_lexer": "ipython3",
   "version": "3.9.13"
  },
  "toc": {
   "base_numbering": 1,
   "nav_menu": {},
   "number_sections": false,
   "sideBar": true,
   "skip_h1_title": false,
   "title_cell": "Table of Contents",
   "title_sidebar": "Contents",
   "toc_cell": false,
   "toc_position": {},
   "toc_section_display": true,
   "toc_window_display": false
  }
 },
 "nbformat": 4,
 "nbformat_minor": 5
}
